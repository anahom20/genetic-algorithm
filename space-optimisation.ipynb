{
 "cells": [
  {
   "cell_type": "markdown",
   "metadata": {},
   "source": [
    "#### Space Optimisation in Automated Storage and Retrieval Systems (ASRS) using Genetic Algorithm\n",
    "The goal of space optimization in ASRS is to optimise the placement of items in a way that minimizes the travel time of retrieval robots, maximizes storage density, and improves overall system efficiency."
   ]
  },
  {
   "cell_type": "code",
   "execution_count": 1,
   "metadata": {},
   "outputs": [],
   "source": [
    "# spare cell to install packages\n"
   ]
  },
  {
   "cell_type": "code",
   "execution_count": 2,
   "metadata": {},
   "outputs": [],
   "source": [
    "# import necessary libraries\n",
    "\n",
    "import numpy as np\n",
    "import random\n",
    "import matplotlib.pyplot as plt"
   ]
  },
  {
   "cell_type": "code",
   "execution_count": 3,
   "metadata": {},
   "outputs": [],
   "source": [
    "# sample dataset\n",
    "\n",
    "# layout of warehouse\n",
    "warehouse_layout = (10, 10)\n",
    "\n",
    "retrieval_requests = [\n",
    "    {\"item_id\": 0, \"frequency\": 10},\n",
    "    {\"item_id\": 1, \"frequency\": 5},\n",
    "    {\"item_id\": 2, \"frequency\": 8},\n",
    "    {\"item_id\": 3, \"frequency\": 2},\n",
    "    {\"item_id\": 4, \"frequency\": 6},\n",
    "    {\"item_id\": 5, \"frequency\": 3},\n",
    "    {\"item_id\": 6, \"frequency\": 7},\n",
    "    {\"item_id\": 7, \"frequency\": 4},\n",
    "    {\"item_id\": 8, \"frequency\": 9},\n",
    "    {\"item_id\": 9, \"frequency\": 1},\n",
    "]\n"
   ]
  },
  {
   "cell_type": "code",
   "execution_count": 4,
   "metadata": {},
   "outputs": [],
   "source": [
    "# initialise parameters\n",
    "\n",
    "population_size = 20\n",
    "num_generation = 50\n",
    "crossover_rate = 0.8\n",
    "mutation_rate = 0.1"
   ]
  },
  {
   "cell_type": "code",
   "execution_count": 5,
   "metadata": {},
   "outputs": [],
   "source": [
    "# initialise population\n",
    "\n",
    "def initialise_population():\n",
    "    \n",
    "    # each individual is a permutation of item IDs\n",
    "    return [np.random.permutation(len(retrieval_requests)) for _ in range(population_size)]\n"
   ]
  },
  {
   "cell_type": "code",
   "execution_count": 6,
   "metadata": {},
   "outputs": [],
   "source": [
    "# select best individuals (parents) based on their fitness scores\n",
    "\n",
    "def selection(population, fitnesses):\n",
    "\n",
    "    # combine population and fitnesses into a list of tuples\n",
    "    combined = list(zip(population, fitnesses))\n",
    "    \n",
    "    # sort list by fitness in descending order\n",
    "    sorted_combined = sorted(combined, key=lambda x: x[1], reverse=True)\n",
    "    \n",
    "    # select the top individuals based on fitness\n",
    "    \n",
    "    '''\n",
    "    In genetic algorithms, it's common to use only a portion of the current population as parents for generating the next generation. \n",
    "    Using half the population helps maintain a balance between exploration (trying out new solutions) and exploitation (refining existing good solutions).\n",
    "    By taking the top half, you ensure that the individuals with the best fitness scores (i.e., the most optimal solutions found so far) are the ones \n",
    "    contributing their genes to the next generation.\n",
    "    '''\n",
    "\n",
    "    num_parents = population_size // 2\n",
    "    selected = sorted_combined[:num_parents]\n",
    "    \n",
    "    # extract and return the individuals (without fitness scores) from the selected tuples\n",
    "    return [ind for ind, fit in selected]"
   ]
  },
  {
   "cell_type": "code",
   "execution_count": 7,
   "metadata": {},
   "outputs": [],
   "source": [
    "# crossover: creates two new individuals (children) by crossover combining parts of two parents\n",
    "\n",
    "'''\n",
    "Order crossover is a genetic algorithm crossover technique specifically designed for problems where the order of elements matters, \n",
    "such as the Traveling Salesman Problem (TSP) or sequencing problems. The primary goal of order crossover is to combine two parent \n",
    "solutions to produce offspring that preserve the relative ordering of the elements (genes) from the parents.\n",
    "'''\n",
    "\n",
    "def order_crossover(parent1, parent2):\n",
    "\n",
    "    # childrern are initialized as lists of the same size as the parents, filled with -1 to indicate empty positions\n",
    "    size = len(parent1)\n",
    "    child1, child2 = [-1] * size, [-1] * size\n",
    "\n",
    "    # randomly select two crossover points\n",
    "    start, end = sorted(random.sample(range(size), 2))\n",
    "\n",
    "    # copy the segment between the crossover points from parent1 to child1, and from parent2 to child2\n",
    "    child1[start:end] = parent1[start:end]\n",
    "    child2[start:end] = parent2[start:end]\n",
    "\n",
    "    # fill_pos_1 and fill_pos_2 are set to end, indicating the next position to be filled in\n",
    "    fill_pos_1, fill_pos_2 = end, end\n",
    "\n",
    "    # loop through each item (gene) in parent2 to fill child1, and through parent1 to fill child2\n",
    "    for gene in parent2:\n",
    "        if gene not in child1:\n",
    "            if fill_pos_1 >= size:\n",
    "                fill_pos_1 = 0\n",
    "            child1[fill_pos_1] = gene\n",
    "            fill_pos_1 += 1\n",
    "        if gene not in child2:\n",
    "            if fill_pos_2 >= size:\n",
    "                fill_pos_2 = 0\n",
    "            child2[fill_pos_2] = gene\n",
    "            fill_pos_2 += 1\n",
    "\n",
    "    # return children as arrays\n",
    "    return np.array(child1), np.array(child2)"
   ]
  },
  {
   "cell_type": "code",
   "execution_count": 8,
   "metadata": {},
   "outputs": [],
   "source": [
    "# scramble mutation selects a subset of genes and randomly shuffles them to intoduce variation\n",
    "\n",
    "def mutate(individual):\n",
    "\n",
    "    # selects 2 random indices (sortetd makes sure that idx1 and idx2 are in ascending order)\n",
    "    idx1, idx2 = sorted(random.sample(range(len(individual)), 2))\n",
    "\n",
    "    # extracts subset of individual between indices\n",
    "    subset = individual[idx1:idx2]\n",
    "\n",
    "    # randomly reorders the elements within the extracted subset\n",
    "    random.shuffle(subset)\n",
    "\n",
    "    # replaces the original subset in the individual with the shuffled subset\n",
    "    individual[idx1:idx2] = subset"
   ]
  },
  {
   "cell_type": "code",
   "execution_count": 9,
   "metadata": {},
   "outputs": [],
   "source": [
    "# fitness function\n",
    "\n",
    "def fitness_function(individual):\n",
    "\n",
    "    # initialise\n",
    "    fitness = 0\n",
    "    retrieval_point = (0, 0)\n",
    "\n",
    "    # creates a dictionary that maps each item ID to its position in the arrangement (individual)\n",
    "    # This dictionary is created by pairing each item in individual with its index\n",
    "    item_positions = {item_id: position for item_id, position in zip(individual, range(len(individual)))}\n",
    "\n",
    "    # iterates over each retrieval request in retrieval_requests and for each request, it extracts the item_id and the frequency of retrieval\n",
    "    for request in retrieval_requests:\n",
    "        item_id = request[\"item_id\"]\n",
    "        frequency = request[\"frequency\"]\n",
    "        \n",
    "        # error handling\n",
    "        if item_id not in item_positions:\n",
    "            print(f\"Error: Item ID {item_id} not found in item_positions\")\n",
    "            continue\n",
    "\n",
    "        # retrieves the position of the item from dictionary\n",
    "        position = item_positions[item_id]\n",
    "\n",
    "        # use divmod to convert the linear position into grid coordinates (x, y)\n",
    "        # warehouse_layout[1] represents the number of columns in the warehouse grid\n",
    "        x, y = divmod(position, warehouse_layout[1])\n",
    "\n",
    "        # calculates the Manhattan distance (sum of the absolute differences between the coordinates) from the retrieval_point to the item's position\n",
    "        distance = abs(x - retrieval_point[0]) + abs(y - retrieval_point[1])\n",
    "\n",
    "        # update the fitness score by subtracting the product of the distance and frequency\n",
    "        # larger distance or higher frequency results in a greater penalty (more negative value), indicating a less efficient arrangement\n",
    "        fitness -= distance * frequency\n",
    "    \n",
    "    return fitness"
   ]
  },
  {
   "cell_type": "code",
   "execution_count": 11,
   "metadata": {},
   "outputs": [],
   "source": [
    "# genetic algorithm\n",
    "\n",
    "def genetic_algorithm():\n",
    "\n",
    "    # initialise\n",
    "    population = initialise_population()\n",
    "    best_fitnesses = []\n",
    "\n",
    "    for generation in range(num_generation):\n",
    "\n",
    "        # (1) calculate the fitness of each individual in the current population (2) find best best fitness score of current generation (3) append to list\n",
    "        fitnesses = [fitness_function(ind) for ind in population]\n",
    "        best_fitness = max(fitnesses)\n",
    "        best_fitnesses.append(best_fitness)\n",
    "\n",
    "        # selects best individuals (parents) from the current population based on their fitness scores\n",
    "        parents = selection(population, fitnesses)\n",
    "\n",
    "        # initialise empty list to hold the new population for the next generation\n",
    "        new_population = []\n",
    "\n",
    "        # runs until length of new pop equals to size of old pop, to ensure new population reaches desired size\n",
    "        while len(new_population) < population_size:\n",
    "\n",
    "            # randomly choose 2 parents from list of selected parents\n",
    "            parent1, parent2 = random.sample(parents, 2)\n",
    "\n",
    "            # applies crossover with a probability: \n",
    "            # if a random number is less than crossover_rate, the crossover function is applied to parent1 and parent2, producing child1 and child2\n",
    "            # else, the children are just copies of the parent\n",
    "            if random.random() < crossover_rate:\n",
    "                child1, child2 = order_crossover(parent1, parent2)\n",
    "            else:\n",
    "                child1, child2 = parent1, parent2\n",
    "\n",
    "            # applies mutation to child with a probability:\n",
    "            # if a random number is less than mutation_rate, the mutate function is applied to child\n",
    "            if random.random() < mutation_rate:\n",
    "                mutate(child1)\n",
    "            if random.random() < mutation_rate:\n",
    "                mutate(child2)\n",
    "\n",
    "            # adds the new children to the new population\n",
    "            new_population.extend([child1, child2])\n",
    "\n",
    "        # updates the population variable with the new generation\n",
    "        # slicing to ensure that population size remains constant\n",
    "        population = new_population[:population_size]\n",
    "\n",
    "    # calculates the fitness of each individual in the final population\n",
    "    fitnesses = [fitness_function(ind) for ind in population]\n",
    "\n",
    "    # identifies best solution in final population\n",
    "    best_solution = population[np.argmax(fitnesses)]\n",
    "    return best_solution, best_fitnesses"
   ]
  },
  {
   "cell_type": "code",
   "execution_count": 15,
   "metadata": {},
   "outputs": [],
   "source": [
    "# run the genetic algorithm\n",
    "\n",
    "best_solution, best_fitnesses = genetic_algorithm()"
   ]
  },
  {
   "cell_type": "code",
   "execution_count": 16,
   "metadata": {},
   "outputs": [
    {
     "name": "stdout",
     "output_type": "stream",
     "text": [
      "Best solution: [8 0 4 1 2 5 7 6 9 3]\n",
      "Best fitnesses: [-214, -185, -220, -207, -205, -208, -192, -192, -203, -203, -203, -190, -199, -184, -184, -184, -177, -176, -174, -175, -175, -175, -175, -175, -175, -184, -178, -185, -178, -178, -175, -175, -197, -196, -195, -188, -188, -188, -188, -188, -188, -188, -183, -180, -177, -177, -177, -183, -183, -183]\n"
     ]
    }
   ],
   "source": [
    "# best solution and best fitnesses\n",
    "\n",
    "print(\"Best solution:\", best_solution)\n",
    "print(\"Best fitnesses:\", best_fitnesses)"
   ]
  },
  {
   "cell_type": "code",
   "execution_count": 17,
   "metadata": {},
   "outputs": [
    {
     "data": {
      "image/png": "[encoded data removed]",
      "text/plain": [
       "<Figure size 640x480 with 1 Axes>"
      ]
     },
     "metadata": {},
     "output_type": "display_data"
    }
   ],
   "source": [
    "# plot the best fitness scores over generations\n",
    "\n",
    "plt.plot(best_fitnesses)\n",
    "plt.title('Genetic Algorithm Performance')\n",
    "plt.xlabel('Generation')\n",
    "plt.ylabel('Best Fitness Score')\n",
    "plt.grid(True)\n",
    "\n",
    "plt.show()"
   ]
  },
  {
   "cell_type": "code",
   "execution_count": null,
   "metadata": {},
   "outputs": [],
   "source": []
  }
 ],
 "metadata": {
  "kernelspec": {
   "display_name": "Python 3",
   "language": "python",
   "name": "python3"
  },
  "language_info": {
   "codemirror_mode": {
    "name": "ipython",
    "version": 3
   },
   "file_extension": ".py",
   "mimetype": "text/x-python",
   "name": "python",
   "nbconvert_exporter": "python",
   "pygments_lexer": "ipython3",
   "version": "3.12.3"
  }
 },
 "nbformat": 4,
 "nbformat_minor": 2
}
