{
 "cells": [
  {
   "cell_type": "markdown",
   "metadata": {},
   "source": [
    "\n",
    "## Genetic Algorithm"
   ]
  },
  {
   "cell_type": "markdown",
   "metadata": {},
   "source": [
    "The Genetic Algorithm (GA) is an evolutionary algorithm (EA) inspired by Charles Darwin’s theory of natural selection which espouses Survival of the fittest. As per the natural selection theory, the fittest individuals are selected to produce offsprings. The fittest parents' characteristics are then passed on to their offsprings using cross-over and mutation to ensure better chances of survival. Genetic algorithms are randomized search algorithms that generate high-quality optimization solutions by imitating the biologically inspired natural selection process such as selection, cross-over, and mutation."
   ]
  },
  {
   "cell_type": "markdown",
   "metadata": {},
   "source": [
    "##### Pseudocode:\n",
    "- Initializing a random population.\n",
    "- Running the population through a fitness function to return the best parents (highest accuracy).\n",
    "- Selection from these best parents will occur depending on the n-parent parameter.\n",
    "- These parents are then put through the crossover and mutation functions respectively.\n",
    "- A new generation is created by selecting the fittest parents from the previous generation and applying cross-over and mutation.\n",
    "- This process is repeated for a specified number of generations."
   ]
  },
  {
   "cell_type": "code",
   "execution_count": 1,
   "metadata": {},
   "outputs": [
    {
     "name": "stdout",
     "output_type": "stream",
     "text": [
      "Requirement already satisfied: numpy in c:\\users\\mohana.selvakumar\\appdata\\local\\programs\\python\\python312\\lib\\site-packages (1.26.4)Note: you may need to restart the kernel to use updated packages.\n"
     ]
    },
    {
     "name": "stderr",
     "output_type": "stream",
     "text": [
      "\n",
      "[notice] A new release of pip is available: 24.0 -> 24.1.2\n",
      "[notice] To update, run: python.exe -m pip install --upgrade pip\n"
     ]
    },
    {
     "name": "stdout",
     "output_type": "stream",
     "text": [
      "\n"
     ]
    }
   ],
   "source": [
    "# spare cell to install packages\n",
    "\n",
    "%pip install numpy"
   ]
  },
  {
   "cell_type": "code",
   "execution_count": 2,
   "metadata": {},
   "outputs": [],
   "source": [
    "# import necessary libraries\n",
    "\n",
    "import random\n",
    "import numpy as np"
   ]
  },
  {
   "cell_type": "code",
   "execution_count": 3,
   "metadata": {},
   "outputs": [],
   "source": [
    "# initialise parameters\n",
    "\n",
    "population_size = 100\n",
    "num_generations = 500\n",
    "mutation_rate = 0.01\n",
    "crossover_rate = 0.8\n"
   ]
  },
  {
   "cell_type": "code",
   "execution_count": 4,
   "metadata": {},
   "outputs": [],
   "source": [
    "# space of the problem\n",
    "\n",
    "grid = (10, 10)\n",
    "num_objects = 10"
   ]
  },
  {
   "cell_type": "code",
   "execution_count": 5,
   "metadata": {},
   "outputs": [],
   "source": [
    "# create a population of random permutations\n",
    "\n",
    "def initialise_population():\n",
    "    return [np.random.permutation(num_objects) for _ in range(population_size)]"
   ]
  },
  {
   "cell_type": "code",
   "execution_count": 6,
   "metadata": {},
   "outputs": [],
   "source": [
    "# fitness function: minimise the sum of distances between consecutive objects in a layout -\n",
    "# useful for scenarios where you want related or similar objects to be placed closer together, reducing the overall \"travel\" distance between them\n",
    "\n",
    "def fitness_function(individual):\n",
    "    # accumulate the total fitness score -\n",
    "    # subtract distances to reduce the score as the sum of distances increases\n",
    "    fitness = 0\n",
    "\n",
    "    # iterate through consecutive pairs of objects in the individual list\n",
    "    # obj1 and obj2 are two consecutive objects\n",
    "    for i in range(len(individual) - 1):\n",
    "        obj1, obj2 = individual[i], individual[i + 1]\n",
    "        distance = abs(obj1 - obj2)\n",
    "        \n",
    "        # minimise distance\n",
    "        fitness -= distance\n",
    "\n",
    "    return fitness"
   ]
  },
  {
   "cell_type": "code",
   "execution_count": 7,
   "metadata": {},
   "outputs": [],
   "source": [
    "# selection of best parents\n",
    "\n",
    "def selection(population, fitnesses, n_parents):\n",
    "    # pair each individual with its fitness score\n",
    "    paired_population = list(zip(population, fitnesses))\n",
    "    \n",
    "    # paired population based on fitness scores in descending order\n",
    "    paired_population.sort(key = lambda x: x[1], reverse=True)\n",
    "    \n",
    "    # select the top n_parents individuals\n",
    "    selected_individuals = [individual for individual, fitness in paired_population[:n_parents]]\n",
    "    \n",
    "    return selected_individuals\n"
   ]
  },
  {
   "cell_type": "code",
   "execution_count": 8,
   "metadata": {},
   "outputs": [],
   "source": [
    "# mutation functions\n",
    "\n",
    "# single-point crossover\n",
    "def crossover(parent1, parent2):\n",
    "\n",
    "    # random crossover point is chosen between 1 and the length of parent\n",
    "    point = random.randint(1, len(parent1) - 1)\n",
    "\n",
    "    # children are created by swapping the 2 parts of the parents from crossover point\n",
    "    child1 = np.concatenate((parent1[:point], parent2[point:]))\n",
    "    child2 = np.concatenate((parent2[:point], parent1[point:]))\n",
    "    \n",
    "    return child1, child2\n",
    "\n",
    "# swap mutation\n",
    "def mutate(individual):\n",
    "\n",
    "    # 2 unique random indices are chosen from the range of the individual's length and swapped to introduce variation\n",
    "    idx1, idx2 = random.sample(range(len(individual)), 2)\n",
    "    individual[idx1], individual[idx2] = individual[idx2], individual[idx1]"
   ]
  },
  {
   "cell_type": "code",
   "execution_count": 9,
   "metadata": {},
   "outputs": [],
   "source": [
    "def genetic_algorithm():\n",
    "    population = initialise_population()\n",
    "    \n",
    "    # main loop: algorithm runs for a fixed number of generations, evolving the population over time\n",
    "    for generation in range(num_generations):\n",
    "\n",
    "        # for each individual in the population, the fitness function is applied to evaluate how good that solution is --> result is a list of fitness scores\n",
    "        fitnesses = [fitness_function(ind) for ind in population]\n",
    "        \n",
    "        # selection of best indiv (parents) --> used to create next generation\n",
    "        parents = selection(population, fitnesses, n_parents=10)\n",
    "        \n",
    "        # create new generation\n",
    "        new_population = []\n",
    "\n",
    "        while len(new_population) < population_size:\n",
    "            \n",
    "            # 2 parents are randomly selected from the list of best parents\n",
    "            parent1, parent2 = random.sample(parents, 2)\n",
    "\n",
    "            # with a probability defined by crossover_rate, crossover is applied to the parents to create two children\n",
    "            # if crossover does not occur, the children are simply copies of the parents\n",
    "            if random.random() < crossover_rate:\n",
    "                child1, child2 = crossover(parent1, parent2)\n",
    "            else:\n",
    "                child1, child2 = parent1, parent2\n",
    "\n",
    "            # each child has a chance to be mutated based on the mutation_rate --> random changes to promote diversity\n",
    "            if random.random() < mutation_rate:\n",
    "                mutate(child1)\n",
    "            if random.random() < mutation_rate:\n",
    "                mutate(child2)\n",
    "\n",
    "            # newly created children are added into population\n",
    "            new_population.extend([child1, child2])\n",
    "        \n",
    "        population = new_population[:population_size]  # slicing to make population size constant, in case of extra children from loop\n",
    "\n",
    "    # fitness of final population is evaluated, and bes solution is returned\n",
    "    fitnesses = [fitness_function(ind) for ind in population]\n",
    "    best_solution = population[np.argmax(fitnesses)]\n",
    "    \n",
    "    return best_solution\n"
   ]
  },
  {
   "cell_type": "code",
   "execution_count": 12,
   "metadata": {},
   "outputs": [
    {
     "name": "stdout",
     "output_type": "stream",
     "text": [
      "Best solution: [1 1 1 2 2 3 5 6 8 9]\n"
     ]
    }
   ],
   "source": [
    "# run the algorithm\n",
    "\n",
    "best_solution = genetic_algorithm()\n",
    "print(\"Best solution:\", best_solution)"
   ]
  },
  {
   "cell_type": "markdown",
   "metadata": {},
   "source": [
    "##### References\n",
    "- https://huggingface.co/spaces/robitalhazmi/genetic_algorithm\n",
    "- https://www.kaggle.com/code/zzettrkalpakbal/tutorial-of-genetic-algorithm/notebook#Parent-Selection\n",
    "- ChatGPT"
   ]
  },
  {
   "cell_type": "markdown",
   "metadata": {},
   "source": []
  }
 ],
 "metadata": {
  "kernelspec": {
   "display_name": "Python 3",
   "language": "python",
   "name": "python3"
  },
  "language_info": {
   "codemirror_mode": {
    "name": "ipython",
    "version": 3
   },
   "file_extension": ".py",
   "mimetype": "text/x-python",
   "name": "python",
   "nbconvert_exporter": "python",
   "pygments_lexer": "ipython3",
   "version": "3.12.3"
  }
 },
 "nbformat": 4,
 "nbformat_minor": 2
}
